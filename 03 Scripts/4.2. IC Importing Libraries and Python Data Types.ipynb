{
 "cells": [
  {
   "cell_type": "markdown",
   "id": "0be335be",
   "metadata": {},
   "source": [
    "## 01: Importing Libraries"
   ]
  },
  {
   "cell_type": "markdown",
   "id": "35a6d09d",
   "metadata": {},
   "source": [
    "## Importing Libraries"
   ]
  },
  {
   "cell_type": "code",
   "execution_count": 1,
   "id": "92ac8522",
   "metadata": {},
   "outputs": [],
   "source": [
    "# importing libraries\n",
    "import pandas as pd\n",
    "import numpy as np\n",
    "import os"
   ]
  },
  {
   "cell_type": "markdown",
   "id": "ad2d6ef6",
   "metadata": {},
   "source": [
    "## Data types"
   ]
  },
  {
   "cell_type": "code",
   "execution_count": 18,
   "id": "0065503f",
   "metadata": {},
   "outputs": [],
   "source": [
    "# three ways of reaching 100\n",
    "a = 50+50"
   ]
  },
  {
   "cell_type": "code",
   "execution_count": 19,
   "id": "192fa1b8",
   "metadata": {},
   "outputs": [
    {
     "name": "stdout",
     "output_type": "stream",
     "text": [
      "100\n"
     ]
    }
   ],
   "source": [
    "print(a)"
   ]
  },
  {
   "cell_type": "code",
   "execution_count": 20,
   "id": "22a74cc1",
   "metadata": {},
   "outputs": [],
   "source": [
    "b = 25+75"
   ]
  },
  {
   "cell_type": "code",
   "execution_count": 21,
   "id": "89b3a549",
   "metadata": {},
   "outputs": [
    {
     "name": "stdout",
     "output_type": "stream",
     "text": [
      "100\n"
     ]
    }
   ],
   "source": [
    "print(b)"
   ]
  },
  {
   "cell_type": "code",
   "execution_count": 22,
   "id": "11c50cf7",
   "metadata": {},
   "outputs": [],
   "source": [
    "c = 101-1"
   ]
  },
  {
   "cell_type": "code",
   "execution_count": 23,
   "id": "2b49d01b",
   "metadata": {},
   "outputs": [
    {
     "name": "stdout",
     "output_type": "stream",
     "text": [
      "100\n"
     ]
    }
   ],
   "source": [
    "print(c)"
   ]
  },
  {
   "cell_type": "code",
   "execution_count": 14,
   "id": "962951f0",
   "metadata": {},
   "outputs": [],
   "source": [
    "# coding to float variables and divide them by each other\n",
    "x = 12.62"
   ]
  },
  {
   "cell_type": "code",
   "execution_count": 15,
   "id": "1f6f9c6e",
   "metadata": {},
   "outputs": [],
   "source": [
    "y = 5.14"
   ]
  },
  {
   "cell_type": "code",
   "execution_count": 16,
   "id": "a68b1a0a",
   "metadata": {},
   "outputs": [
    {
     "data": {
      "text/plain": [
       "2.455252918287938"
      ]
     },
     "execution_count": 16,
     "metadata": {},
     "output_type": "execute_result"
    }
   ],
   "source": [
    "x/y"
   ]
  },
  {
   "cell_type": "code",
   "execution_count": 24,
   "id": "486c9857",
   "metadata": {},
   "outputs": [],
   "source": [
    "#concatenate a short word\n",
    "z = \"ice \""
   ]
  },
  {
   "cell_type": "code",
   "execution_count": 25,
   "id": "5c66c065",
   "metadata": {},
   "outputs": [],
   "source": [
    "w = \"cream\""
   ]
  },
  {
   "cell_type": "code",
   "execution_count": 27,
   "id": "7b6553f5",
   "metadata": {},
   "outputs": [
    {
     "data": {
      "text/plain": [
       "'ice cream'"
      ]
     },
     "execution_count": 27,
     "metadata": {},
     "output_type": "execute_result"
    }
   ],
   "source": [
    "z+w"
   ]
  },
  {
   "cell_type": "code",
   "execution_count": 28,
   "id": "62385691",
   "metadata": {},
   "outputs": [],
   "source": [
    "#concatenate 2 short sentences\n",
    "d = \"I'm excited to be on this Achievement! \""
   ]
  },
  {
   "cell_type": "code",
   "execution_count": 29,
   "id": "30064aa3",
   "metadata": {},
   "outputs": [],
   "source": [
    "e = \"We're finally gettin to the good stuff.\""
   ]
  },
  {
   "cell_type": "code",
   "execution_count": 30,
   "id": "67f7c048",
   "metadata": {},
   "outputs": [
    {
     "data": {
      "text/plain": [
       "\"I'm excited to be on this Achievement! We're finally gettin to the good stuff.\""
      ]
     },
     "execution_count": 30,
     "metadata": {},
     "output_type": "execute_result"
    }
   ],
   "source": [
    "d+e"
   ]
  }
 ],
 "metadata": {
  "kernelspec": {
   "display_name": "Python 3 (ipykernel)",
   "language": "python",
   "name": "python3"
  },
  "language_info": {
   "codemirror_mode": {
    "name": "ipython",
    "version": 3
   },
   "file_extension": ".py",
   "mimetype": "text/x-python",
   "name": "python",
   "nbconvert_exporter": "python",
   "pygments_lexer": "ipython3",
   "version": "3.9.7"
  }
 },
 "nbformat": 4,
 "nbformat_minor": 5
}
